{
 "cells": [
  {
   "cell_type": "markdown",
   "metadata": {},
   "source": [
    "# Exploratory Data Analysis"
   ]
  },
  {
   "cell_type": "code",
   "execution_count": 1,
   "metadata": {},
   "outputs": [
    {
     "name": "stdout",
     "output_type": "stream",
     "text": [
      "Numpy versions: 1.26.2\n",
      "Pandas version: 2.1.3\n",
      "Seaborn version: 0.13.0\n",
      "Python version: 3.9.10 (tags/v3.9.10:f2f3f53, Jan 17 2022, 15:14:21) [MSC v.1929 64 bit (AMD64)]\n"
     ]
    }
   ],
   "source": [
    "# Module Imports\n",
    "import numpy as np\n",
    "import pandas as pd\n",
    "import seaborn as sns\n",
    "import sys\n",
    "\n",
    "print(\"Numpy versions:\", np.__version__)\n",
    "print(\"Pandas version:\", pd.__version__)\n",
    "print(\"Seaborn version:\", sns.__version__)\n",
    "print(\"Python version:\", sys.version)"
   ]
  },
  {
   "cell_type": "code",
   "execution_count": 2,
   "metadata": {},
   "outputs": [],
   "source": [
    "# Load Datasets into DataFrames\n",
    "root = r'C:/Users/paulm/OneDrive/Cloudforest Technologies/M. Projects/crimson-hornbill/data/1_raw/'\n",
    "\n",
    "client_df = pd.read_csv(root+'client.csv')\n",
    "elec_price_df = pd.read_csv(root+'electricity_prices.csv')\n",
    "gas_price_df = pd.read_csv(root+'gas_prices.csv')\n",
    "historic_weather_df = pd.read_csv(root+'historical_weather.csv')"
   ]
  },
  {
   "cell_type": "markdown",
   "metadata": {},
   "source": [
    "# Data Munging"
   ]
  },
  {
   "cell_type": "code",
   "execution_count": 15,
   "metadata": {},
   "outputs": [
    {
     "name": "stdout",
     "output_type": "stream",
     "text": [
      "   product_type  county  eic_count  installed_capacity  is_business  \\\n",
      "0             1       0        108              952.89            0   \n",
      "1             2       0         17              166.40            0   \n",
      "2             3       0        688             7207.88            0   \n",
      "\n",
      "        date  data_block_id  \n",
      "0 2021-09-01              2  \n",
      "1 2021-09-01              2  \n",
      "2 2021-09-01              2  \n",
      "product_type : int64\n",
      "county : int64\n",
      "eic_count : int64\n",
      "installed_capacity : float64\n",
      "is_business : int64\n",
      "date : datetime64[ns]\n",
      "data_block_id : int64\n"
     ]
    }
   ],
   "source": [
    "# Data Munging - Client.csv\n",
    "\n",
    "print(client_df.head(3))\n",
    "\n",
    "# Perform datetime conversion\n",
    "client_df['date'] = pd.to_datetime(client_df['date'])\n",
    "\n",
    "# Confirm final datatypes\n",
    "client_cols = client_df.columns\n",
    "for col in client_cols:\n",
    "\n",
    "    print(col, \":\", client_df[col].dtype)"
   ]
  },
  {
   "cell_type": "code",
   "execution_count": 17,
   "metadata": {},
   "outputs": [
    {
     "name": "stdout",
     "output_type": "stream",
     "text": [
      "         forecast_date  euros_per_mwh          origin_date  data_block_id\n",
      "0  2021-09-01 00:00:00          92.51  2021-08-31 00:00:00              1\n",
      "1  2021-09-01 01:00:00          88.90  2021-08-31 01:00:00              1\n",
      "2  2021-09-01 02:00:00          87.35  2021-08-31 02:00:00              1\n",
      "forecast_date : datetime64[ns]\n",
      "euros_per_mwh : float64\n",
      "origin_date : datetime64[ns]\n",
      "data_block_id : int64\n"
     ]
    }
   ],
   "source": [
    "# Data Munging - Client.csv\n",
    "\n",
    "print(elec_price_df.head(3))\n",
    "\n",
    "# Perform datetime conversion\n",
    "elec_price_df['forecast_date'] = pd.to_datetime(elec_price_df['forecast_date'])\n",
    "elec_price_df['origin_date'] = pd.to_datetime(elec_price_df['origin_date'])\n",
    "\n",
    "# Confirm final datatypes\n",
    "elec_price_cols = elec_price_df.columns\n",
    "for col in elec_price_cols:\n",
    "\n",
    "    print(col, \":\", elec_price_df[col].dtype)"
   ]
  },
  {
   "cell_type": "markdown",
   "metadata": {},
   "source": [
    "# Feature Engineering"
   ]
  },
  {
   "cell_type": "code",
   "execution_count": null,
   "metadata": {},
   "outputs": [],
   "source": []
  },
  {
   "cell_type": "markdown",
   "metadata": {},
   "source": [
    "# Exploratory Data Analysis"
   ]
  },
  {
   "cell_type": "code",
   "execution_count": null,
   "metadata": {},
   "outputs": [],
   "source": []
  }
 ],
 "metadata": {
  "kernelspec": {
   "display_name": "Python 3",
   "language": "python",
   "name": "python3"
  },
  "language_info": {
   "codemirror_mode": {
    "name": "ipython",
    "version": 3
   },
   "file_extension": ".py",
   "mimetype": "text/x-python",
   "name": "python",
   "nbconvert_exporter": "python",
   "pygments_lexer": "ipython3",
   "version": "3.9.10"
  }
 },
 "nbformat": 4,
 "nbformat_minor": 2
}
