{
 "cells": [
  {
   "cell_type": "markdown",
   "metadata": {},
   "source": [
    "# Loading the Datasets\n",
    "\n",
    "After module imports, data is loaded into Pandas DataFrames for analysis and modelling."
   ]
  },
  {
   "cell_type": "code",
   "execution_count": 34,
   "metadata": {},
   "outputs": [
    {
     "name": "stdout",
     "output_type": "stream",
     "text": [
      "Numpy versions: 1.26.2\n",
      "Pandas version: 2.1.3\n",
      "Seaborn version: 0.13.0\n",
      "Python version: 3.9.10 (tags/v3.9.10:f2f3f53, Jan 17 2022, 15:14:21) [MSC v.1929 64 bit (AMD64)]\n"
     ]
    }
   ],
   "source": [
    "# Module Imports\n",
    "import matplotlib.pyplot as plt\n",
    "import numpy as np\n",
    "import pandas as pd\n",
    "import seaborn as sns\n",
    "import sys\n",
    "\n",
    "print(\"Numpy versions:\", np.__version__)\n",
    "print(\"Pandas version:\", pd.__version__)\n",
    "print(\"Seaborn version:\", sns.__version__)\n",
    "print(\"Python version:\", sys.version)"
   ]
  },
  {
   "cell_type": "code",
   "execution_count": 35,
   "metadata": {},
   "outputs": [],
   "source": [
    "# Load Datasets into DataFrames\n",
    "root = r'C:/Users/paulm/OneDrive/Cloudforest Technologies/M. Projects/crimson-hornbill/data/1_raw/'\n",
    "\n",
    "client_df = pd.read_csv(root+'client.csv')\n",
    "elec_price_df = pd.read_csv(root+'electricity_prices.csv')\n",
    "gas_price_df = pd.read_csv(root+'gas_prices.csv')\n",
    "historic_weather_df = pd.read_csv(root+'historical_weather.csv')\n",
    "forecast_weather_df = pd.read_csv(root+'forecast_weather.csv')"
   ]
  },
  {
   "cell_type": "markdown",
   "metadata": {},
   "source": [
    "# Data Munging\n",
    "\n",
    "Before exploring or modelling the data, it is important to fix any errors and ensure columns are presented in the correct datatype. "
   ]
  },
  {
   "cell_type": "code",
   "execution_count": 36,
   "metadata": {},
   "outputs": [
    {
     "name": "stdout",
     "output_type": "stream",
     "text": [
      "   product_type  county  eic_count  installed_capacity  is_business  \\\n",
      "0             1       0        108              952.89            0   \n",
      "1             2       0         17              166.40            0   \n",
      "\n",
      "         date  data_block_id  \n",
      "0  2021-09-01              2  \n",
      "1  2021-09-01              2  \n",
      "product_type : int64\n",
      "county : int64\n",
      "eic_count : int64\n",
      "installed_capacity : float64\n",
      "is_business : int64\n",
      "date : datetime64[ns]\n",
      "data_block_id : int64\n"
     ]
    }
   ],
   "source": [
    "# Fixing Datatypes - client.csv\n",
    "\n",
    "print(client_df.head(2))\n",
    "\n",
    "# Perform datetime conversion\n",
    "client_df['date'] = pd.to_datetime(client_df['date'])\n",
    "\n",
    "# Confirm final datatypes\n",
    "client_cols = client_df.columns\n",
    "for col in client_cols:\n",
    "\n",
    "    print(col, \":\", client_df[col].dtype)"
   ]
  },
  {
   "cell_type": "code",
   "execution_count": 37,
   "metadata": {},
   "outputs": [
    {
     "name": "stdout",
     "output_type": "stream",
     "text": [
      "         forecast_date  euros_per_mwh          origin_date  data_block_id\n",
      "0  2021-09-01 00:00:00          92.51  2021-08-31 00:00:00              1\n",
      "1  2021-09-01 01:00:00          88.90  2021-08-31 01:00:00              1\n",
      "forecast_date : datetime64[ns]\n",
      "euros_per_mwh : float64\n",
      "origin_date : datetime64[ns]\n",
      "data_block_id : int64\n"
     ]
    }
   ],
   "source": [
    "# Fixing Datatypes - electricity_prices\n",
    "\n",
    "print(elec_price_df.head(2))\n",
    "\n",
    "# Perform datetime conversion\n",
    "elec_price_df['forecast_date'] = pd.to_datetime(elec_price_df['forecast_date'])\n",
    "elec_price_df['origin_date'] = pd.to_datetime(elec_price_df['origin_date'])\n",
    "\n",
    "# Confirm final datatypes\n",
    "elec_price_cols = elec_price_df.columns\n",
    "for col in elec_price_cols:\n",
    "\n",
    "    print(col, \":\", elec_price_df[col].dtype)"
   ]
  },
  {
   "cell_type": "code",
   "execution_count": 38,
   "metadata": {},
   "outputs": [
    {
     "name": "stdout",
     "output_type": "stream",
     "text": [
      "  forecast_date  lowest_price_per_mwh  highest_price_per_mwh origin_date  \\\n",
      "0    2021-09-01                 45.23                  46.32  2021-08-31   \n",
      "1    2021-09-02                 45.62                  46.29  2021-09-01   \n",
      "\n",
      "   data_block_id  \n",
      "0              1  \n",
      "1              2  \n",
      "forecast_date : datetime64[ns]\n",
      "lowest_price_per_mwh : float64\n",
      "highest_price_per_mwh : float64\n",
      "origin_date : datetime64[ns]\n",
      "data_block_id : int64\n"
     ]
    }
   ],
   "source": [
    "# Fixing Datatypes - gas_prices\n",
    "\n",
    "print(gas_price_df.head(2))\n",
    "\n",
    "# Perform datetime conversion\n",
    "gas_price_df['forecast_date'] = pd.to_datetime(gas_price_df['forecast_date'])\n",
    "gas_price_df['origin_date'] = pd.to_datetime(gas_price_df['origin_date'])\n",
    "\n",
    "# Confirm final datatypes\n",
    "gas_price_cols = gas_price_df.columns\n",
    "for col in gas_price_cols:\n",
    "\n",
    "    print(col, \":\", gas_price_df[col].dtype)"
   ]
  },
  {
   "cell_type": "code",
   "execution_count": 39,
   "metadata": {},
   "outputs": [
    {
     "name": "stdout",
     "output_type": "stream",
     "text": [
      "              datetime  temperature  dewpoint  rain  snowfall  \\\n",
      "0  2021-09-01 00:00:00         14.4      12.0   0.0       0.0   \n",
      "1  2021-09-01 00:00:00         14.0      12.0   0.0       0.0   \n",
      "\n",
      "   surface_pressure  cloudcover_total  cloudcover_low  cloudcover_mid  \\\n",
      "0            1015.8                 4               4               0   \n",
      "1            1010.6                 7               8               0   \n",
      "\n",
      "   cloudcover_high  windspeed_10m  winddirection_10m  shortwave_radiation  \\\n",
      "0                0       6.694444                  3                  0.0   \n",
      "1                0       4.944444                353                  0.0   \n",
      "\n",
      "   direct_solar_radiation  diffuse_radiation  latitude  longitude  \\\n",
      "0                     0.0                0.0      57.6       21.7   \n",
      "1                     0.0                0.0      57.6       22.2   \n",
      "\n",
      "   data_block_id  \n",
      "0              1  \n",
      "1              1  \n",
      "datetime : datetime64[ns]\n",
      "temperature : float64\n",
      "dewpoint : float64\n",
      "rain : float64\n",
      "snowfall : float64\n",
      "surface_pressure : float64\n",
      "cloudcover_total : int64\n",
      "cloudcover_low : int64\n",
      "cloudcover_mid : int64\n",
      "cloudcover_high : int64\n",
      "windspeed_10m : float64\n",
      "winddirection_10m : int64\n",
      "shortwave_radiation : float64\n",
      "direct_solar_radiation : float64\n",
      "diffuse_radiation : float64\n",
      "latitude : float64\n",
      "longitude : float64\n",
      "data_block_id : int64\n"
     ]
    }
   ],
   "source": [
    "# Fixing Datatypes - historic_weather\n",
    "\n",
    "print(historic_weather_df.head(2))\n",
    "\n",
    "# Perform datetime conversion\n",
    "historic_weather_df['datetime'] = pd.to_datetime(historic_weather_df['datetime'])   # This is UTC\n",
    "\n",
    "# Confirm final datatypes\n",
    "historic_weather_cols = historic_weather_df.columns\n",
    "for col in historic_weather_cols:\n",
    "\n",
    "    print(col, \":\", historic_weather_df[col].dtype)"
   ]
  },
  {
   "cell_type": "code",
   "execution_count": 40,
   "metadata": {},
   "outputs": [
    {
     "name": "stdout",
     "output_type": "stream",
     "text": [
      "   latitude  longitude            origin_datetime  hours_ahead  temperature  \\\n",
      "0      57.6       21.7  2021-09-01 00:00:00+00:00            1    15.655786   \n",
      "1      57.6       22.2  2021-09-01 00:00:00+00:00            1    13.003931   \n",
      "\n",
      "    dewpoint  cloudcover_high  cloudcover_low  cloudcover_mid  \\\n",
      "0  11.553613         0.904816        0.019714             0.0   \n",
      "1  10.689844         0.886322        0.004456             0.0   \n",
      "\n",
      "   cloudcover_total  10_metre_u_wind_component  10_metre_v_wind_component  \\\n",
      "0          0.905899                  -0.411328                  -9.106137   \n",
      "1          0.886658                   0.206347                  -5.355405   \n",
      "\n",
      "   data_block_id          forecast_datetime  direct_solar_radiation  \\\n",
      "0              1  2021-09-01 01:00:00+00:00                     0.0   \n",
      "1              1  2021-09-01 01:00:00+00:00                     0.0   \n",
      "\n",
      "   surface_solar_radiation_downwards  snowfall  total_precipitation  \n",
      "0                                0.0       0.0                  0.0  \n",
      "1                                0.0       0.0                  0.0  \n"
     ]
    },
    {
     "name": "stdout",
     "output_type": "stream",
     "text": [
      "latitude : float64\n",
      "longitude : float64\n",
      "origin_datetime : datetime64[ns, UTC]\n",
      "hours_ahead : int64\n",
      "temperature : float64\n",
      "dewpoint : float64\n",
      "cloudcover_high : float64\n",
      "cloudcover_low : float64\n",
      "cloudcover_mid : float64\n",
      "cloudcover_total : float64\n",
      "10_metre_u_wind_component : float64\n",
      "10_metre_v_wind_component : float64\n",
      "data_block_id : int64\n",
      "forecast_datetime : datetime64[ns, UTC]\n",
      "direct_solar_radiation : float64\n",
      "surface_solar_radiation_downwards : float64\n",
      "snowfall : float64\n",
      "total_precipitation : float64\n"
     ]
    }
   ],
   "source": [
    "# Fixing Datatypes - forecast_weather\n",
    "\n",
    "print(forecast_weather_df.head(2))\n",
    "\n",
    "# Perform datetime conversion\n",
    "forecast_weather_df['origin_datetime'] = pd.to_datetime(forecast_weather_df['origin_datetime'])         # This is UTC\n",
    "forecast_weather_df['forecast_datetime'] = pd.to_datetime(forecast_weather_df['forecast_datetime'])     # This is UTC\n",
    "\n",
    "# Confirm final datatypes\n",
    "forecast_weather_cols = forecast_weather_df.columns\n",
    "for col in forecast_weather_cols:\n",
    "\n",
    "    print(col, \":\", forecast_weather_df[col].dtype)"
   ]
  },
  {
   "cell_type": "markdown",
   "metadata": {},
   "source": [
    "# Feature Engineering"
   ]
  },
  {
   "cell_type": "code",
   "execution_count": 41,
   "metadata": {},
   "outputs": [
    {
     "data": {
      "text/html": [
       "<div>\n",
       "<style scoped>\n",
       "    .dataframe tbody tr th:only-of-type {\n",
       "        vertical-align: middle;\n",
       "    }\n",
       "\n",
       "    .dataframe tbody tr th {\n",
       "        vertical-align: top;\n",
       "    }\n",
       "\n",
       "    .dataframe thead th {\n",
       "        text-align: right;\n",
       "    }\n",
       "</style>\n",
       "<table border=\"1\" class=\"dataframe\">\n",
       "  <thead>\n",
       "    <tr style=\"text-align: right;\">\n",
       "      <th></th>\n",
       "      <th>product_type</th>\n",
       "      <th>county</th>\n",
       "      <th>eic_count</th>\n",
       "      <th>installed_capacity</th>\n",
       "      <th>is_business</th>\n",
       "      <th>date</th>\n",
       "      <th>data_block_id</th>\n",
       "      <th>month_year</th>\n",
       "    </tr>\n",
       "  </thead>\n",
       "  <tbody>\n",
       "    <tr>\n",
       "      <th>0</th>\n",
       "      <td>1</td>\n",
       "      <td>0</td>\n",
       "      <td>108</td>\n",
       "      <td>952.89</td>\n",
       "      <td>0</td>\n",
       "      <td>2021-09-01</td>\n",
       "      <td>2</td>\n",
       "      <td>2021-09</td>\n",
       "    </tr>\n",
       "    <tr>\n",
       "      <th>1</th>\n",
       "      <td>2</td>\n",
       "      <td>0</td>\n",
       "      <td>17</td>\n",
       "      <td>166.40</td>\n",
       "      <td>0</td>\n",
       "      <td>2021-09-01</td>\n",
       "      <td>2</td>\n",
       "      <td>2021-09</td>\n",
       "    </tr>\n",
       "    <tr>\n",
       "      <th>2</th>\n",
       "      <td>3</td>\n",
       "      <td>0</td>\n",
       "      <td>688</td>\n",
       "      <td>7207.88</td>\n",
       "      <td>0</td>\n",
       "      <td>2021-09-01</td>\n",
       "      <td>2</td>\n",
       "      <td>2021-09</td>\n",
       "    </tr>\n",
       "  </tbody>\n",
       "</table>\n",
       "</div>"
      ],
      "text/plain": [
       "   product_type  county  eic_count  installed_capacity  is_business  \\\n",
       "0             1       0        108              952.89            0   \n",
       "1             2       0         17              166.40            0   \n",
       "2             3       0        688             7207.88            0   \n",
       "\n",
       "        date  data_block_id month_year  \n",
       "0 2021-09-01              2    2021-09  \n",
       "1 2021-09-01              2    2021-09  \n",
       "2 2021-09-01              2    2021-09  "
      ]
     },
     "execution_count": 41,
     "metadata": {},
     "output_type": "execute_result"
    }
   ],
   "source": [
    "# Client Data - Adding Month-Year\n",
    "client_df['month_year'] = client_df['date'].dt.strftime('%Y-%m')\n",
    "\n",
    "client_df.head(3)"
   ]
  },
  {
   "cell_type": "markdown",
   "metadata": {},
   "source": [
    "# Exploratory Data Analysis"
   ]
  },
  {
   "cell_type": "code",
   "execution_count": 42,
   "metadata": {},
   "outputs": [
    {
     "data": {
      "image/png": "[encoded data removed]",
      "text/plain": [
       "<Figure size 640x480 with 1 Axes>"
      ]
     },
     "metadata": {},
     "output_type": "display_data"
    }
   ],
   "source": [
    "# Client dataset - Counting datapoints for each date\n",
    "\n",
    "# Count entries for each date\n",
    "data_counts = client_df.groupby('date').size().reset_index(name='count')\n",
    "\n",
    "# Plot data entries as time-series\n",
    "sns.lineplot(data=data_counts, x='date', y='count')\n",
    "\n",
    "# Figure styling\n",
    "plt.xticks(rotation=45)\n",
    "plt.xlabel('Date')\n",
    "plt.ylabel('Number of Entries')\n",
    "plt.title('Data Entries on Each Date')\n",
    "\n",
    "plt.show()"
   ]
  },
  {
   "cell_type": "code",
   "execution_count": 43,
   "metadata": {},
   "outputs": [
    {
     "data": {
      "text/html": [
       "<div>\n",
       "<style scoped>\n",
       "    .dataframe tbody tr th:only-of-type {\n",
       "        vertical-align: middle;\n",
       "    }\n",
       "\n",
       "    .dataframe tbody tr th {\n",
       "        vertical-align: top;\n",
       "    }\n",
       "\n",
       "    .dataframe thead th {\n",
       "        text-align: right;\n",
       "    }\n",
       "</style>\n",
       "<table border=\"1\" class=\"dataframe\">\n",
       "  <thead>\n",
       "    <tr style=\"text-align: right;\">\n",
       "      <th></th>\n",
       "      <th>product_type</th>\n",
       "      <th>county</th>\n",
       "      <th>eic_count</th>\n",
       "      <th>installed_capacity</th>\n",
       "      <th>is_business</th>\n",
       "      <th>date</th>\n",
       "      <th>data_block_id</th>\n",
       "      <th>month_year</th>\n",
       "    </tr>\n",
       "  </thead>\n",
       "  <tbody>\n",
       "    <tr>\n",
       "      <th>0</th>\n",
       "      <td>1</td>\n",
       "      <td>0</td>\n",
       "      <td>108</td>\n",
       "      <td>952.89</td>\n",
       "      <td>0</td>\n",
       "      <td>2021-09-01</td>\n",
       "      <td>2</td>\n",
       "      <td>2021-09</td>\n",
       "    </tr>\n",
       "    <tr>\n",
       "      <th>1</th>\n",
       "      <td>2</td>\n",
       "      <td>0</td>\n",
       "      <td>17</td>\n",
       "      <td>166.40</td>\n",
       "      <td>0</td>\n",
       "      <td>2021-09-01</td>\n",
       "      <td>2</td>\n",
       "      <td>2021-09</td>\n",
       "    </tr>\n",
       "    <tr>\n",
       "      <th>2</th>\n",
       "      <td>3</td>\n",
       "      <td>0</td>\n",
       "      <td>688</td>\n",
       "      <td>7207.88</td>\n",
       "      <td>0</td>\n",
       "      <td>2021-09-01</td>\n",
       "      <td>2</td>\n",
       "      <td>2021-09</td>\n",
       "    </tr>\n",
       "    <tr>\n",
       "      <th>3</th>\n",
       "      <td>0</td>\n",
       "      <td>0</td>\n",
       "      <td>5</td>\n",
       "      <td>400.00</td>\n",
       "      <td>1</td>\n",
       "      <td>2021-09-01</td>\n",
       "      <td>2</td>\n",
       "      <td>2021-09</td>\n",
       "    </tr>\n",
       "    <tr>\n",
       "      <th>4</th>\n",
       "      <td>1</td>\n",
       "      <td>0</td>\n",
       "      <td>43</td>\n",
       "      <td>1411.00</td>\n",
       "      <td>1</td>\n",
       "      <td>2021-09-01</td>\n",
       "      <td>2</td>\n",
       "      <td>2021-09</td>\n",
       "    </tr>\n",
       "    <tr>\n",
       "      <th>...</th>\n",
       "      <td>...</td>\n",
       "      <td>...</td>\n",
       "      <td>...</td>\n",
       "      <td>...</td>\n",
       "      <td>...</td>\n",
       "      <td>...</td>\n",
       "      <td>...</td>\n",
       "      <td>...</td>\n",
       "    </tr>\n",
       "    <tr>\n",
       "      <th>41914</th>\n",
       "      <td>1</td>\n",
       "      <td>15</td>\n",
       "      <td>51</td>\n",
       "      <td>415.60</td>\n",
       "      <td>0</td>\n",
       "      <td>2023-05-29</td>\n",
       "      <td>637</td>\n",
       "      <td>2023-05</td>\n",
       "    </tr>\n",
       "    <tr>\n",
       "      <th>41915</th>\n",
       "      <td>3</td>\n",
       "      <td>15</td>\n",
       "      <td>161</td>\n",
       "      <td>2035.75</td>\n",
       "      <td>0</td>\n",
       "      <td>2023-05-29</td>\n",
       "      <td>637</td>\n",
       "      <td>2023-05</td>\n",
       "    </tr>\n",
       "    <tr>\n",
       "      <th>41916</th>\n",
       "      <td>0</td>\n",
       "      <td>15</td>\n",
       "      <td>15</td>\n",
       "      <td>620.00</td>\n",
       "      <td>1</td>\n",
       "      <td>2023-05-29</td>\n",
       "      <td>637</td>\n",
       "      <td>2023-05</td>\n",
       "    </tr>\n",
       "    <tr>\n",
       "      <th>41917</th>\n",
       "      <td>1</td>\n",
       "      <td>15</td>\n",
       "      <td>20</td>\n",
       "      <td>624.50</td>\n",
       "      <td>1</td>\n",
       "      <td>2023-05-29</td>\n",
       "      <td>637</td>\n",
       "      <td>2023-05</td>\n",
       "    </tr>\n",
       "    <tr>\n",
       "      <th>41918</th>\n",
       "      <td>3</td>\n",
       "      <td>15</td>\n",
       "      <td>55</td>\n",
       "      <td>2188.20</td>\n",
       "      <td>1</td>\n",
       "      <td>2023-05-29</td>\n",
       "      <td>637</td>\n",
       "      <td>2023-05</td>\n",
       "    </tr>\n",
       "  </tbody>\n",
       "</table>\n",
       "<p>41919 rows × 8 columns</p>\n",
       "</div>"
      ],
      "text/plain": [
       "       product_type  county  eic_count  installed_capacity  is_business  \\\n",
       "0                 1       0        108              952.89            0   \n",
       "1                 2       0         17              166.40            0   \n",
       "2                 3       0        688             7207.88            0   \n",
       "3                 0       0          5              400.00            1   \n",
       "4                 1       0         43             1411.00            1   \n",
       "...             ...     ...        ...                 ...          ...   \n",
       "41914             1      15         51              415.60            0   \n",
       "41915             3      15        161             2035.75            0   \n",
       "41916             0      15         15              620.00            1   \n",
       "41917             1      15         20              624.50            1   \n",
       "41918             3      15         55             2188.20            1   \n",
       "\n",
       "            date  data_block_id month_year  \n",
       "0     2021-09-01              2    2021-09  \n",
       "1     2021-09-01              2    2021-09  \n",
       "2     2021-09-01              2    2021-09  \n",
       "3     2021-09-01              2    2021-09  \n",
       "4     2021-09-01              2    2021-09  \n",
       "...          ...            ...        ...  \n",
       "41914 2023-05-29            637    2023-05  \n",
       "41915 2023-05-29            637    2023-05  \n",
       "41916 2023-05-29            637    2023-05  \n",
       "41917 2023-05-29            637    2023-05  \n",
       "41918 2023-05-29            637    2023-05  \n",
       "\n",
       "[41919 rows x 8 columns]"
      ]
     },
     "execution_count": 43,
     "metadata": {},
     "output_type": "execute_result"
    }
   ],
   "source": [
    "# Exploring the client dataset\n",
    "\n",
    "# Looking at how installed capacity changes\n",
    "client_df"
   ]
  },
  {
   "cell_type": "code",
   "execution_count": 44,
   "metadata": {},
   "outputs": [],
   "source": [
    "# Exploring the client dataset\n",
    "\n",
    "# Product type code (contract type): 0 - Combined, 1 - Fixed, 2 - General Service, 3 - Spot\n",
    "\n",
    "# Assess quantities of each contract type in dataset"
   ]
  }
 ],
 "metadata": {
  "kernelspec": {
   "display_name": "Python 3",
   "language": "python",
   "name": "python3"
  },
  "language_info": {
   "codemirror_mode": {
    "name": "ipython",
    "version": 3
   },
   "file_extension": ".py",
   "mimetype": "text/x-python",
   "name": "python",
   "nbconvert_exporter": "python",
   "pygments_lexer": "ipython3",
   "version": "3.9.10"
  }
 },
 "nbformat": 4,
 "nbformat_minor": 2
}
